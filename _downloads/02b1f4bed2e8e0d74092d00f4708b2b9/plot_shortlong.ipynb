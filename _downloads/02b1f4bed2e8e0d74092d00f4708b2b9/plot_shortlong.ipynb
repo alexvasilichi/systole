{
  "cells": [
    {
      "cell_type": "markdown",
      "metadata": {},
      "source": [
        "\n# Plot short and long invertvals\n\nVisualization of short, long, extra and missed intervals detection.\n\nThe artefact detection is based on the method described in [1]_.\n\n.. [1] Lipponen, J. A., & Tarvainen, M. P. (2019). A robust algorithm for\n    heart rate variability time series artefact correction using novel beat\n    classification. Journal of Medical Engineering & Technology, 43(3),\n    173\u2013181. https://doi.org/10.1080/03091902.2019.1640306\n"
      ]
    },
    {
      "cell_type": "code",
      "execution_count": null,
      "metadata": {
        "collapsed": false
      },
      "outputs": [],
      "source": [
        "# Author: Nicolas Legrand <nicolas.legrand@cfin.au.dk>\n# Licence: GPL v3"
      ]
    },
    {
      "cell_type": "markdown",
      "metadata": {},
      "source": [
        "## Visualizing short/long and missed/extra intervals from a RR time series\n\n"
      ]
    },
    {
      "cell_type": "code",
      "execution_count": null,
      "metadata": {
        "collapsed": false
      },
      "outputs": [],
      "source": [
        "from systole import import_rr\nfrom systole.plots import plot_shortlong\n\n# Import PPG recording as numpy array\nrr = import_rr().rr.to_numpy()\n\nplot_shortlong(rr)"
      ]
    },
    {
      "cell_type": "markdown",
      "metadata": {},
      "source": [
        "## Visualizing ectopic subspace from the `artefact` dictionary\n\n"
      ]
    },
    {
      "cell_type": "code",
      "execution_count": null,
      "metadata": {
        "collapsed": false
      },
      "outputs": [],
      "source": [
        "from systole.detection import rr_artefacts\n\n# Use the rr_artefacts function to short/long and extra/missed intervals\nartefacts = rr_artefacts(rr)\n\nplot_shortlong(artefacts=artefacts)"
      ]
    },
    {
      "cell_type": "markdown",
      "metadata": {},
      "source": [
        "## Using Bokeh as plotting backend\n\n"
      ]
    },
    {
      "cell_type": "code",
      "execution_count": null,
      "metadata": {
        "collapsed": false
      },
      "outputs": [],
      "source": [
        "from bokeh.io import output_notebook\nfrom bokeh.plotting import show\nfrom systole.detection import rr_artefacts\noutput_notebook()\n\nshow(\n    plot_shortlong(\n        artefacts=artefacts, backend=\"bokeh\"\n        )\n)"
      ]
    }
  ],
  "metadata": {
    "kernelspec": {
      "display_name": "Python 3",
      "language": "python",
      "name": "python3"
    },
    "language_info": {
      "codemirror_mode": {
        "name": "ipython",
        "version": 3
      },
      "file_extension": ".py",
      "mimetype": "text/x-python",
      "name": "python",
      "nbconvert_exporter": "python",
      "pygments_lexer": "ipython3",
      "version": "3.9.16"
    }
  },
  "nbformat": 4,
  "nbformat_minor": 0
}