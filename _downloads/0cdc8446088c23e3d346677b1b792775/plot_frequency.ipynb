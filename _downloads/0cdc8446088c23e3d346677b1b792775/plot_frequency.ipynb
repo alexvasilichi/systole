{
  "cells": [
    {
      "cell_type": "markdown",
      "metadata": {},
      "source": [
        "\n# Plot frequency\n"
      ]
    },
    {
      "cell_type": "code",
      "execution_count": null,
      "metadata": {
        "collapsed": false
      },
      "outputs": [],
      "source": [
        "# Author: Nicolas Legrand <nicolas.legrand@cfin.au.dk>\n# Licence: GPL v3"
      ]
    },
    {
      "cell_type": "markdown",
      "metadata": {},
      "source": [
        "Visualizing HRV frequency domain from RR time series using Matplotlib as plotting backend\n ----------------------------------------------------------------------------------------\n\n"
      ]
    },
    {
      "cell_type": "code",
      "execution_count": null,
      "metadata": {
        "collapsed": false
      },
      "outputs": [],
      "source": [
        "from systole import import_rr\nfrom systole.plots import plot_frequency\n\n# Import PPG recording as numpy array\nrr = import_rr().rr.to_numpy()\nplot_frequency(rr, input_type=\"rr_ms\")"
      ]
    },
    {
      "cell_type": "markdown",
      "metadata": {},
      "source": [
        "Visualizing HRV frequency domain from RR time series using Bokeh as plotting backend\n -----------------------------------------------------------------------------------\n\n"
      ]
    },
    {
      "cell_type": "code",
      "execution_count": null,
      "metadata": {
        "collapsed": false
      },
      "outputs": [],
      "source": [
        "from systole import import_rr\nfrom systole.plots import plot_frequency\nfrom bokeh.io import output_notebook\nfrom bokeh.plotting import show\noutput_notebook()\n\nshow(\n    plot_frequency(rr, input_type=\"rr_ms\", backend=\"bokeh\")\n)"
      ]
    }
  ],
  "metadata": {
    "kernelspec": {
      "display_name": "Python 3",
      "language": "python",
      "name": "python3"
    },
    "language_info": {
      "codemirror_mode": {
        "name": "ipython",
        "version": 3
      },
      "file_extension": ".py",
      "mimetype": "text/x-python",
      "name": "python",
      "nbconvert_exporter": "python",
      "pygments_lexer": "ipython3",
      "version": "3.9.16"
    }
  },
  "nbformat": 4,
  "nbformat_minor": 0
}